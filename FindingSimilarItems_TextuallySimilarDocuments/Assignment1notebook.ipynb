{
 "cells": [
  {
   "cell_type": "markdown",
   "metadata": {},
   "source": [
    "# Finding Similar Items: Textually Similar Documents "
   ]
  },
  {
   "cell_type": "markdown",
   "metadata": {},
   "source": [
    "We will implement the minhashing algorithm for finding similar items or documents of textual character.  "
   ]
  },
  {
   "cell_type": "markdown",
   "metadata": {},
   "source": [
    "## Python implementation :"
   ]
  },
  {
   "cell_type": "markdown",
   "metadata": {},
   "source": [
    "First import all the necessary packages"
   ]
  },
  {
   "cell_type": "code",
   "execution_count": 2,
   "metadata": {},
   "outputs": [],
   "source": [
    "import sympy\n",
    "import random\n",
    "import numpy as np\n",
    "import binascii\n",
    "import json\n",
    "from ordered_set import OrderedSet\n",
    "import matplotlib.pyplot as plt\n",
    "import time\n",
    "from sklearn.metrics import accuracy_score"
   ]
  },
  {
   "cell_type": "markdown",
   "metadata": {},
   "source": [
    "#### K-shingles implementation"
   ]
  },
  {
   "cell_type": "markdown",
   "metadata": {},
   "source": [
    "We need to implement k-shingles for finding different shingles of size k for a given text document on the character level. **Example:** Suppose our document D is the string abcdabd, and we pick k = 2. Then the set of 2-shingles for D is {ab, bc, cd, da, bd}"
   ]
  },
  {
   "cell_type": "code",
   "execution_count": 10,
   "metadata": {},
   "outputs": [],
   "source": [
    "def k_shingles(document, k):\n",
    "    \n",
    "    shingles = OrderedSet()\n",
    "    shings = OrderedSet()\n",
    "    \n",
    "    for i in range(len(document) - k + 1 ):\n",
    "        temp_shingle = document[ i:(i + k ) ]\n",
    "        shingles.add(hash(temp_shingle))\n",
    "        shings.add(temp_shingle)\n",
    "        \n",
    "    return shingles, shings"
   ]
  },
  {
   "cell_type": "markdown",
   "metadata": {},
   "source": [
    "We will redo the example in python in order to verify the validaity of the implementation and test the function in general "
   ]
  },
  {
   "cell_type": "code",
   "execution_count": 11,
   "metadata": {},
   "outputs": [
    {
     "name": "stdout",
     "output_type": "stream",
     "text": [
      "OrderedSet(['ab', 'bc', 'cd', 'da', 'bd'])\n"
     ]
    }
   ],
   "source": [
    "document = \"abcdabd\"\n",
    "k = 2\n",
    "_, shingles = k_shingles(document, k)\n",
    "print(shingles)"
   ]
  },
  {
   "cell_type": "markdown",
   "metadata": {},
   "source": [
    "The result obtained seems correct. Next we need to hash this shingles to a bucket in the range $[0, 2^{32} - 1 ]$. This can be obtained in different ways. We can create a simple hash function that doing the following operation $shingles \\rightarrow [0, 2^{32} - 1 ]$ or we can use a library function. Here we have implemented the two methods for comparison purposes."
   ]
  },
  {
   "cell_type": "code",
   "execution_count": 12,
   "metadata": {},
   "outputs": [],
   "source": [
    "def hash(text, M = 2**32 - 1) :\n",
    "    # Simple hash function\n",
    "    xlength = len(text)\n",
    "    sum = 0\n",
    "    \n",
    "    for i in range(xlength) :\n",
    "        sum += ord(text[i])\n",
    "        \n",
    "    return ( sum % M)\n",
    "    \n",
    "def hash_with_binascii(text) :\n",
    "    # Encode eaxh text to [0, 2^{32} - 1 ] with binascii library\n",
    "    hash = binascii.crc32(text.encode())\n",
    "    return hash "
   ]
  },
  {
   "cell_type": "markdown",
   "metadata": {},
   "source": [
    "Continuing with our example document, we can now hash its shingles :"
   ]
  },
  {
   "cell_type": "code",
   "execution_count": 13,
   "metadata": {},
   "outputs": [
    {
     "name": "stdout",
     "output_type": "stream",
     "text": [
      "['ab', 'bc', 'cd', 'da', 'bd']\n",
      "[195, 197, 199, 198]\n"
     ]
    }
   ],
   "source": [
    "document = \"abcdabd\"\n",
    "k = 2\n",
    "shingles_encode, shingles = k_shingles(document, k)\n",
    "print(list(shingles))\n",
    "print(list(shingles_encode))\n"
   ]
  },
  {
   "cell_type": "markdown",
   "metadata": {},
   "source": [
    "##### Universal set"
   ]
  },
  {
   "cell_type": "markdown",
   "metadata": {},
   "source": [
    "The universal set can be defined as the union of all the documents. Given that each document can have a different number of shingles in their set, the comparison is impossible. We need to create a universal set U, in order to normalise each set to have the same length. "
   ]
  },
  {
   "cell_type": "code",
   "execution_count": 14,
   "metadata": {},
   "outputs": [],
   "source": [
    "def universal_set(documents, k) :\n",
    "    \n",
    "    universal = OrderedSet()\n",
    "    universal1 = OrderedSet()\n",
    "    for doc in documents :\n",
    "        #print(\"doc = \", doc)\n",
    "        shingles, shings = k_shingles(doc, k)\n",
    "        universal = universal.union(shingles)\n",
    "        universal1 = universal1.union(shings)\n",
    "    \n",
    "    universal = list(universal)\n",
    "    universal1 = list(universal1)\n",
    "    universal.sort()\n",
    "    universal1.sort()\n",
    "    universal = OrderedSet(universal)\n",
    "    universal1 = OrderedSet(universal1)\n",
    "    \n",
    "    return universal, universal1"
   ]
  },
  {
   "cell_type": "markdown",
   "metadata": {},
   "source": [
    "**Example:** let's have four documents : \n",
    "    1. s1 = 'ad'\n",
    "    2. s2 = 'c'\n",
    "    3. s3 = 'bde'\n",
    "    4. s4 = 'acd'\n",
    "The uniion of all the character for k = 1, is {a,b,c,d,e} (no duplicates). That is the universal set is {a,b,c,d,e}. We can now represent each document $s_1, s_2, s_3, s_4$ in term of the universal set. Let's take document s1 as an example, its representation is s1 = {1,0,0,1,0}. s1 has 1 in the first and fourth element because it shares shingle \"a\" and \"d\" with the universal set. We can do the same with other documents. "
   ]
  },
  {
   "cell_type": "code",
   "execution_count": 68,
   "metadata": {},
   "outputs": [
    {
     "name": "stdout",
     "output_type": "stream",
     "text": [
      "['a', 'b', 'c', 'd', 'e']\n"
     ]
    }
   ],
   "source": [
    "s1 = 'ad'\n",
    "s2 = 'c'\n",
    "s3 = 'bde'\n",
    "s4 = 'acd'\n",
    "k = 1\n",
    "documents = [s1,s2,s3,s4]\n",
    "_, universalSet = universal_set(documents, k)\n",
    "print(list(universalSet))"
   ]
  },
  {
   "cell_type": "markdown",
   "metadata": {},
   "source": [
    "The result is correct. \n"
   ]
  },
  {
   "cell_type": "markdown",
   "metadata": {},
   "source": [
    "###### Characteristic matrix"
   ]
  },
  {
   "cell_type": "markdown",
   "metadata": {},
   "source": [
    "The characteristic matrix is the matrix representation of each documents in terms of the universal set. We have found that the universal set is {a,b,c,d,e}. s1 = {1,0,0,1,0} in term of the universal set and s2 = {0,0,1,0,0} etc. The characteristic matrix is [s1, s2, s3, s4], where each s is the transpose of the boolean vector representation of each document. "
   ]
  },
  {
   "cell_type": "code",
   "execution_count": 17,
   "metadata": {},
   "outputs": [],
   "source": [
    "def matrix_set(documents, k) :\n",
    "    universal, universal1 = universal_set(documents, k)\n",
    "    matrices = []\n",
    "    \n",
    "    for doc in documents :\n",
    "        matrixSet = np.zeros(len(universal))\n",
    "        shingles, shings = k_shingles(doc, k)\n",
    "        for s in shingles :\n",
    "            indx = universal.index(s)\n",
    "            matrixSet[indx] = 1\n",
    "            \n",
    "        matrices.append(matrixSet.tolist())\n",
    "    \n",
    "    return np.array(np.transpose(matrices))\n"
   ]
  },
  {
   "cell_type": "code",
   "execution_count": 18,
   "metadata": {
    "scrolled": true
   },
   "outputs": [
    {
     "name": "stdout",
     "output_type": "stream",
     "text": [
      "The characteristic matrix : \n",
      "[[1. 0. 0. 1.]\n",
      " [0. 0. 1. 0.]\n",
      " [0. 1. 0. 1.]\n",
      " [1. 0. 1. 1.]\n",
      " [0. 0. 1. 0.]]\n"
     ]
    }
   ],
   "source": [
    "s1 = 'ad'\n",
    "s2 = 'c'\n",
    "s3 = 'bde'\n",
    "s4 = 'acd'\n",
    "k = 1\n",
    "documents = [s1,s2,s3,s4]\n",
    "characteristic_mat = matrix_set(documents, k)\n",
    "print(\"The characteristic matrix : \")\n",
    "print(characteristic_mat)"
   ]
  },
  {
   "cell_type": "markdown",
   "metadata": {},
   "source": [
    "The result seems correct !"
   ]
  },
  {
   "cell_type": "markdown",
   "metadata": {},
   "source": [
    "###### Comparing sets"
   ]
  },
  {
   "cell_type": "markdown",
   "metadata": {},
   "source": [
    "Now that we have the matrix representation of each documents, we can now compare two documents given their respective set vector representation. In order to do we will use the jaccard similarity : \n",
    "    $Jaccard(A,B) = \\frac{A \\cap B}{A \\cup B} $"
   ]
  },
  {
   "cell_type": "code",
   "execution_count": 25,
   "metadata": {},
   "outputs": [],
   "source": [
    "def CompareSets(setA, setB) :\n",
    "    A = setA.intersection(setB)\n",
    "    B = setA.union(setB)\n",
    "    \n",
    "    return (len(A)/len(B))\n",
    "\n",
    "def compareByJaccard(documents,k,index1 = 10, index2 = 11 ) :\n",
    "    \n",
    "    allDocs = [] \n",
    "    for doc in documents :\n",
    "        shingles, shings = k_shingles(doc, k)\n",
    "        allDocs.append(shingles)\n",
    "\n",
    "    \n",
    "    return CompareSets(allDocs[index1] , allDocs[index2])"
   ]
  },
  {
   "cell_type": "code",
   "execution_count": 28,
   "metadata": {},
   "outputs": [
    {
     "name": "stdout",
     "output_type": "stream",
     "text": [
      "Comparison :\n",
      "ad\n",
      "acd\n",
      "Similarity :  0.6666666666666666\n"
     ]
    }
   ],
   "source": [
    "index1 = 0\n",
    "index2 = 3\n",
    "comparison = compareByJaccard(documents,k,index1, index2)\n",
    "print(\"Comparison :\")\n",
    "print(documents[index1])\n",
    "print(documents[index2])\n",
    "print(\"Similarity : \", comparison)"
   ]
  },
  {
   "cell_type": "markdown",
   "metadata": {},
   "source": [
    "### MinHashing"
   ]
  },
  {
   "cell_type": "markdown",
   "metadata": {},
   "source": [
    "Given that we have the characteristic matrix we need to find different permuations of the row elements of the matrix. \n",
    "it is computational expensive to ($N!$) for N rows. There we can generate instead N hash functions and use them to create an illusion of rows permutations. The N hash functions need to be of the forms :\n",
    "\n",
    "$H(row_i) = ((a * row_i + b) \\mod  c ) \\mod  M $\n",
    "\n",
    "\n",
    "Where a and b are two different no repeating integer in the range of $[0, 2^{32} - 1 ]$. M is the number of row in the characteristic matrix, c is a prime number such as c > M. \n",
    "\n"
   ]
  },
  {
   "cell_type": "markdown",
   "metadata": {},
   "source": [
    "#### Generate hash functions"
   ]
  },
  {
   "cell_type": "markdown",
   "metadata": {},
   "source": [
    "Here we will use a slightly different implementation. \n",
    "1. First generate coefficients a and b :\n",
    "    Given P the number of hash functions, we generate two list a and b of length P with the property described above\n",
    "2. Next compute the row permutation as :\n",
    "    for i in [1 ,..., NumberOfHashes ] :\n",
    "        Hash_i = ((a * all_rows_as_list + b) mod  c ) mod  M  "
   ]
  },
  {
   "cell_type": "code",
   "execution_count": 30,
   "metadata": {},
   "outputs": [],
   "source": [
    "def generate_coefficient_list(number_of_coefficients):\n",
    "    max = 2**32 - 1\n",
    "    next_prime = 4294967311\n",
    "    coeffs = []\n",
    "    \n",
    "    def random_int():\n",
    "        return random.randint(1, max)\n",
    "    \n",
    "    for _ in range(number_of_coefficients):\n",
    "        temp = random_int()\n",
    "        while temp in coeffs:\n",
    "            temp = random_int()\n",
    "        coeffs.append(temp)\n",
    "    \n",
    "    return coeffs\n",
    "    \n",
    "\n",
    "def generateMinHashFunctions(M, Snumb):\n",
    "    \"\"\"\n",
    "    h(row_i)=(a*row_i + b) mod c\n",
    "    \"\"\"\n",
    "    hashes = [] \n",
    "    k = np.arange(1,M)\n",
    "\n",
    "    coeffs_a = generate_coefficient_list(Snumb)\n",
    "    coeffs_b = generate_coefficient_list(Snumb)\n",
    "\n",
    "    row = np.arange(M)\n",
    "    c = sympy.nextprime(M+1)\n",
    "    \n",
    "    for i in range(Snumb):\n",
    "        hash_i = ( (coeffs_a[i]*row + coeffs_b[i]) % c ) % M\n",
    "        hashes.append(hash_i.tolist())\n",
    "    \n",
    "    return hashes"
   ]
  },
  {
   "cell_type": "markdown",
   "metadata": {},
   "source": [
    "#### Compute minHash signatures "
   ]
  },
  {
   "cell_type": "markdown",
   "metadata": {},
   "source": [
    "The minHash signatures is the compressed version of the matrix set in order to speed up the time need to compare two documents. minHash signatures is a matrix of where the number of rows is equal to the number of hash functions and the number of colums is equal to the number of documents. The python implementation shows how it can be implemented. Look up at the book Mining of masssive datasets for further details"
   ]
  },
  {
   "cell_type": "code",
   "execution_count": 32,
   "metadata": {},
   "outputs": [],
   "source": [
    "def MinHashing(documents,k,Snumb = 100):\n",
    "    characteristic_mat = matrix_set(documents, k)\n",
    "    M, nDocs = np.shape(characteristic_mat)\n",
    "    hashes = generateMinHashFunctions(M, Snumb)\n",
    "    signature = np.ones((Snumb, nDocs)) * np.inf\n",
    "    \n",
    "    for row_r in range(M) :\n",
    "        for col_c in range(nDocs) :\n",
    "            if characteristic_mat[row_r,col_c] == 1 :\n",
    "                for i, h_i in enumerate(hashes) :\n",
    "                     signature[i,col_c]  = min(h_i[row_r],  signature[i,col_c])\n",
    "\n",
    "    \n",
    "    return signature\n",
    "    \n"
   ]
  },
  {
   "cell_type": "code",
   "execution_count": 33,
   "metadata": {},
   "outputs": [],
   "source": [
    "def jaccard_sim_minhashing(signature, index1, index2) :\n",
    "    signature = np.array(signature)\n",
    "    A = signature[:,index1].tolist()\n",
    "    B = signature[:,index2].tolist()\n",
    "    \n",
    "    total = len(A)\n",
    "    commun = 0 \n",
    "    for i in range(len(A)) :\n",
    "        if A[i] == B[i] :\n",
    "            commun += 1\n",
    "    \n",
    "    return (commun/total)"
   ]
  },
  {
   "cell_type": "markdown",
   "metadata": {},
   "source": [
    "The jaccard similarity here is just the fraction between the number of times set A and B have the same element by the total number of element in set A or B (length(A) = length(B))"
   ]
  },
  {
   "cell_type": "markdown",
   "metadata": {},
   "source": [
    "#### Finding similar documents "
   ]
  },
  {
   "cell_type": "markdown",
   "metadata": {},
   "source": [
    "In order to find similar document in a set of documents, we need to decide on a similarity thresold to be used say $s = 0.6$, then all the documents have similarity $ s \\geq 0.6 $ are considered as similar. In python, we get  :"
   ]
  },
  {
   "cell_type": "code",
   "execution_count": 48,
   "metadata": {},
   "outputs": [],
   "source": [
    "def similar_document(documents, k = 5, s = 0.6) :\n",
    "    \n",
    "    signature = MinHashing(documents, k)\n",
    "    indices = []\n",
    "    total = len(documents)\n",
    "    for i in range(total) :\n",
    "        for j in range(i, total) :\n",
    "            sim = jaccard_sim_minhashing(signature, i,j)\n",
    "            if sim > s and (i != j) :\n",
    "                indices.append([i,j])\n",
    "\n",
    "    print(\"similar docs : \",indices )"
   ]
  },
  {
   "cell_type": "markdown",
   "metadata": {},
   "source": [
    "Going back to our examples, we have : "
   ]
  },
  {
   "cell_type": "code",
   "execution_count": 50,
   "metadata": {},
   "outputs": [
    {
     "name": "stdout",
     "output_type": "stream",
     "text": [
      "similar docs :  [[0, 3]]\n"
     ]
    }
   ],
   "source": [
    "s1 = 'ad'\n",
    "s2 = 'c'\n",
    "s3 = 'bde'\n",
    "s4 = 'acd'\n",
    "k = 1\n",
    "s = 0.8\n",
    "documents = [s1,s2,s3,s4]\n",
    "similar_document(documents, k, s)"
   ]
  },
  {
   "cell_type": "markdown",
   "metadata": {},
   "source": [
    "The result seems correct, because \"ad\" and \"acd\" are quite similar. Although the result can be different for different s, k and the randomization of the system. Furtheremore there is risk for collisions. That is why we need a big amount of hash functions"
   ]
  },
  {
   "cell_type": "markdown",
   "metadata": {},
   "source": [
    "### Tests functions and result plots "
   ]
  },
  {
   "cell_type": "code",
   "execution_count": 51,
   "metadata": {},
   "outputs": [],
   "source": [
    "def read_data():\n",
    "    f = open('dataDuplicates.json')\n",
    "    filen = json.load(f)\n",
    "    dataset = filen['texts']\n",
    "    return dataset\n",
    " \n",
    "    \n",
    "def similar_docs(k = 5, untilInd = 50) :\n",
    "    \n",
    "    data = read_data()\n",
    "    documents = data[0:untilInd]\n",
    "    s = 0.6\n",
    "    signature = MinHashing(documents, k)\n",
    "    indices = []\n",
    "    total = len(documents)\n",
    "    for i in range(total) :\n",
    "        for j in range(i, total) :\n",
    "            sim = jaccard_sim_minhashing(signature, i,j)\n",
    "            if sim > s and (i != j) :\n",
    "                indices.append([i,j])\n",
    "\n",
    "    print(\"similar docs : \",indices )\n",
    "    \n",
    "def MinHashing_test(Snumb = 2):\n",
    "    characteristic_mat = np.array([[1. ,0., 0., 1.],[0., 0., 1., 0.],[0., 1., 0., 1.],[1., 0., 1. ,1.],[0. ,0., 1., 0.]])\n",
    "    M, nDocs = np.shape(characteristic_mat)\n",
    "    hashes = [[1, 2, 3, 4, 0], [1, 4, 2, 0, 3]]\n",
    "    signature = np.ones((Snumb, nDocs)) * np.inf\n",
    "    \n",
    "    for row_r in range(M) :\n",
    "        for col_c in range(nDocs) :\n",
    "            if characteristic_mat[row_r,col_c] == 1 :\n",
    "                for i, h_i in enumerate(hashes) :\n",
    "                     signature[i,col_c]  = min(h_i[row_r],  signature[i,col_c])\n",
    "\n",
    "    return signature \n",
    "    \n",
    "def test_time_hashing(k = 5, untilInd = 20) :\n",
    "    data = read_data()\n",
    "    documents = data[0:untilInd]\n",
    "    s = 0.6\n",
    "    signature = MinHashing(documents, k)\n",
    "    \n",
    "def similar_docs_accaracy(k = 5, untilInd = 50) :\n",
    "    data = read_data()\n",
    "    documents = data[0:untilInd]\n",
    "    s = 0.8\n",
    "    signature = MinHashing(documents,k, )\n",
    "    indices = []\n",
    "    indices_true = []\n",
    "    total = len(documents)\n",
    "    for i in range(total) :\n",
    "        for j in range(i, total) :\n",
    "            sim = jaccard_sim_minhashing(signature, i,j)\n",
    "            if sim > s and (i != j) :\n",
    "                indices.append([i,j])\n",
    "            sim = compareByJaccard(documents,k,index1 = i, index2 = j )\n",
    "            if sim > s and (i != j) :\n",
    "                indices_true.append([i,j])\n",
    "    print(\"indices : \",indices)\n",
    "    print(\"indices_true : \",indices_true)   \n",
    "    a = [sum(x) for x in indices ]   \n",
    "    b = [sum(x) for x in indices_true ]   \n",
    "    \n",
    "    count = 0\n",
    "    for element in b :\n",
    "        if element in a :\n",
    "            count += 1\n",
    "\n",
    "    return (count / max(len(a),len(b) ) ) \n",
    "    \n",
    "    \n",
    "def similar_docs_accaracy_hashes(nHash = 20, k = 5, untilInd = 50) :\n",
    "    data = read_data()\n",
    "    documents = data[0:untilInd]\n",
    "    s = 0.8\n",
    "    signature = MinHashing(documents,k, nHash)\n",
    "    indices = []\n",
    "    indices_true = []\n",
    "    total = len(documents)\n",
    "    for i in range(total) :\n",
    "        for j in range(i, total) :\n",
    "            sim = jaccard_sim_minhashing(signature, i,j)\n",
    "            if sim > s and (i != j) :\n",
    "                indices.append([i,j])\n",
    "            sim = compareByJaccard(documents,k,index1 = i, index2 = j )\n",
    "            if sim > s and (i != j) :\n",
    "                indices_true.append([i,j])\n",
    "    print(\"indices : \",indices)\n",
    "    print(\"indices_true : \",indices_true)   \n",
    "    a = [sum(x) for x in indices ]   \n",
    "    b = [sum(x) for x in indices_true ]   \n",
    "    \n",
    "    count = 0\n",
    "    for element in b :\n",
    "        if element in a :\n",
    "            count += 1\n",
    "\n",
    "    return (count / max(len(a),len(b) ) ) \n",
    "      \n",
    "def tests() :\n",
    "    \n",
    "    s1 = 'ad'\n",
    "    s2 = 'c'\n",
    "    s3 = 'bde'\n",
    "    s4 = 'acd'\n",
    "    \n",
    "    \n",
    "        \n",
    "    documents = [s1,s2,s3,s4]\n",
    "    print(hash(s4))\n",
    "    print()\n",
    "    \n",
    "    k = 1\n",
    "    s1_shingles = k_shingles(s1, k)\n",
    "    s2_shingles = k_shingles(s2, k)\n",
    "    s3_shingles = k_shingles(s3, k)\n",
    "    s4_shingles = k_shingles(s4, k)\n",
    "    print()\n",
    "    print(\"s1_shingles = \", s1_shingles)\n",
    "    print(\"s2_shingles = \", s2_shingles)\n",
    "    print(\"s3_shingles = \", s3_shingles)\n",
    "    print(\"s4_shingles = \", s4_shingles)\n",
    "    print()\n",
    "    print(universal_set(documents,k))\n",
    "    print()\n",
    "    print(matrix_set(documents,k))\n",
    "    print(\"Fictive permutation\")\n",
    "    print(generateMinHashFunctions(M=10, Snumb = 4))\n",
    "    print()\n",
    "    print(\"---------------------------------------\")\n",
    "    \n",
    "    print(MinHashing_test())\n",
    "    print(\"---------------------------------------\")\n",
    "    signature = MinHashing_test() \n",
    "    print(\"similarity : \", jaccard_sim_minhashing(signature, 0,3))\n",
    "    print(\"*****************---------------******************\")\n",
    "    signature = MinHashing(documents,k)\n",
    "    print(\"signature = \")\n",
    "    print(signature)\n",
    "    print(\"similarity Alldocs: \", jaccard_sim_minhashing(signature, 0,3))\n",
    "\n",
    "def testsDocs() :\n",
    "    data = read_data()\n",
    "    documents = data[0:40]\n",
    "    k = 5\n",
    "    s = 0.6\n",
    "    signature = MinHashing(documents,k)\n",
    "    indices = []\n",
    "    indices_true = []\n",
    "    total = len(documents)\n",
    "    for i in range(total) :\n",
    "        for j in range(i, total) :\n",
    "            sim = jaccard_sim_minhashing(signature, i,j)\n",
    "            if sim > s and (i != j) :\n",
    "                indices.append([i,j])\n",
    "            sim = compareByJaccard(documents,k,index1 = i, index2 = j )\n",
    "            if sim > 0.5 and (i != j) :\n",
    "                indices_true.append([i,j])\n",
    "    print(\"dataset\")\n",
    "    print(documents)\n",
    "    print(\"signature = \")\n",
    "    print(signature)\n",
    "    docA = 16\n",
    "    docB = 17\n",
    "    print(\"docA : \", documents[docA])\n",
    "    print(\"docB : \", documents[docB])\n",
    "    print(\"similarity docA and docB : \", jaccard_sim_minhashing(signature, docA,docB))\n",
    "    print()\n",
    "    print(compareByJaccard(documents,k,index1 = docA, index2 = docB ) )\n",
    "    print(\"similar docs : \",indices )\n",
    "    print(\"similar docs true : \", indices_true )\n",
    "\n",
    "def test1() :\n",
    "    \n",
    "    documents = [\"la vie est belle mon amie\", \"la vida es muy bonita mi amiga\", \"la vie est bella mon amir\",  \"hfjfds fjjfds dkf\", \"vida vie amigo amiga to \", \"why to do this hehe hehe\", \"vida es muy bonita min amigo\"]\n",
    "    k = 5\n",
    "    s = 0.8\n",
    "    signature = MinHashing(documents,k)\n",
    "    indices = []\n",
    "    indices_true = []\n",
    "    total = len(documents)\n",
    "    for i in range(total) :\n",
    "        for j in range(i, total) :\n",
    "            sim = jaccard_sim_minhashing(signature, i,j)\n",
    "            if sim > s and (i != j) :\n",
    "                indices.append([i,j])\n",
    "            sim = compareByJaccard(documents,k,index1 = i, index2 = j )\n",
    "            if sim > 0.5 and (i != j) :\n",
    "                indices_true.append([i,j])\n",
    "    print(\"dataset\")\n",
    "    print(documents)\n",
    "    print(\"signature = \")\n",
    "    print(signature)\n",
    "    docA = 1\n",
    "    docB = 6\n",
    "    print(\"docA : \", documents[docA])\n",
    "    print(\"docB : \", documents[docB])\n",
    "    print(\"similarity docA and docB : \", jaccard_sim_minhashing(signature, docA,docB))\n",
    "    print()\n",
    "    print(compareByJaccard(documents,k,index1 = docA, index2 = docB ) )\n",
    "    print(\"similar docs : \",indices )\n",
    "    print(\"similar docs true : \", indices_true )\n",
    " \n",
    " \n",
    "def plot_execution_time(temps = 10) :\n",
    "    \n",
    "    index = []\n",
    "    s = 1\n",
    "    timers = []\n",
    "    for i in range(temps):\n",
    "        start = time.time()\n",
    "        test_time_hashing(k = 5, untilInd = s)\n",
    "        elapsed =  time.time() - start\n",
    "        s = 2*s\n",
    "        timers.append(elapsed)\n",
    "        index.append(s)\n",
    "    \n",
    "    plt.xlabel('Problem size')\n",
    "    plt.ylabel('Execution time')\n",
    "    plt.plot(index, timers, 'r-o')\n",
    "    plt.show()\n",
    "  \n",
    "   \n"
   ]
  },
  {
   "cell_type": "code",
   "execution_count": 54,
   "metadata": {},
   "outputs": [],
   "source": [
    "def test_shingle_size_accuracy() :\n",
    "    \n",
    "    size = np.arange(1,9)\n",
    "    accuracies = []\n",
    "    for k in size :\n",
    "        acc = similar_docs_accaracy(k, untilInd = 50) * 100\n",
    "        accuracies.append(acc)\n",
    "    \n",
    "    plt.xlabel('Shingle size')\n",
    "    plt.ylabel('Accuracy')\n",
    "    plt.plot(size, accuracies, 'r-o')\n",
    "    plt.show()\n",
    "    \n",
    "def test_NumberOfHashesFunc_accuracy() :\n",
    "    \n",
    "    size = np.linspace(10,100 , 10).tolist()\n",
    "    size = [ int(x) for x in size ]\n",
    "\n",
    "    accuracies = []\n",
    "    for numbHash in size :\n",
    "        acc =  similar_docs_accaracy_hashes(nHash = numbHash, k = 5, untilInd = 50) * 100\n",
    "        accuracies.append(acc)\n",
    "    \n",
    "    plt.xlabel('Number of hash functions')\n",
    "    plt.ylabel('Accuracy')\n",
    "    plt.plot(size, accuracies, 'r-o')\n",
    "    plt.show()"
   ]
  },
  {
   "cell_type": "code",
   "execution_count": 55,
   "metadata": {},
   "outputs": [
    {
     "data": {
      "image/png": "[encoded data removed]",
      "text/plain": [
       "<matplotlib.figure.Figure at 0xf94d990470>"
      ]
     },
     "metadata": {
      "needs_background": "light"
     },
     "output_type": "display_data"
    }
   ],
   "source": [
    "plot_execution_time()"
   ]
  },
  {
   "cell_type": "markdown",
   "metadata": {},
   "source": [
    "The plot shows that there is almost a linear relation between the problem size and the execution time. So we have achieve som scalability. "
   ]
  },
  {
   "cell_type": "code",
   "execution_count": 56,
   "metadata": {},
   "outputs": [
    {
     "name": "stdout",
     "output_type": "stream",
     "text": [
      "indices :  [[0, 1], [0, 13], [0, 20], [0, 21], [0, 38], [0, 48], [1, 13], [1, 20], [1, 21], [1, 38], [1, 48], [3, 21], [3, 48], [4, 29], [4, 31], [6, 25], [6, 49], [8, 37], [8, 38], [8, 48], [9, 26], [9, 27], [9, 34], [9, 47], [13, 21], [13, 29], [13, 38], [13, 48], [13, 49], [15, 48], [20, 21], [21, 34], [21, 38], [21, 48], [25, 26], [25, 49], [26, 27], [28, 29], [28, 31], [29, 31], [30, 31], [32, 33], [34, 35], [34, 37], [34, 38], [34, 43], [36, 37], [37, 38], [38, 39], [38, 48], [42, 43], [44, 45], [45, 48]]\n",
      "indices_true :  [[0, 1], [25, 49], [26, 27], [28, 29], [29, 31], [32, 33], [34, 35], [36, 37], [38, 39], [38, 48], [44, 45]]\n",
      "indices :  [[0, 1], [26, 27], [28, 29], [32, 33], [38, 39]]\n",
      "indices_true :  [[0, 1], [26, 27], [32, 33], [38, 39]]\n",
      "indices :  [[0, 1], [26, 27], [28, 29], [32, 33]]\n",
      "indices_true :  [[0, 1], [26, 27], [32, 33]]\n",
      "indices :  [[0, 1], [26, 27], [28, 29], [32, 33]]\n",
      "indices_true :  [[0, 1], [26, 27], [28, 29], [32, 33]]\n",
      "indices :  [[0, 1], [26, 27], [32, 33]]\n",
      "indices_true :  [[0, 1], [26, 27], [32, 33]]\n",
      "indices :  [[0, 1], [28, 29], [32, 33]]\n",
      "indices_true :  [[0, 1], [26, 27], [28, 29], [32, 33]]\n",
      "indices :  [[0, 1], [26, 27], [28, 29], [32, 33]]\n",
      "indices_true :  [[0, 1], [26, 27], [28, 29], [32, 33]]\n",
      "indices :  [[26, 27], [28, 29], [32, 33]]\n",
      "indices_true :  [[0, 1], [26, 27], [28, 29], [32, 33]]\n"
     ]
    },
    {
     "data": {
      "image/png": "[encoded data removed]",
      "text/plain": [
       "<matplotlib.figure.Figure at 0xf96182c470>"
      ]
     },
     "metadata": {
      "needs_background": "light"
     },
     "output_type": "display_data"
    }
   ],
   "source": [
    "test_shingle_size_accuracy()\n"
   ]
  },
  {
   "cell_type": "markdown",
   "metadata": {},
   "source": [
    "Given the data we are using there is no way of calculating the accucary in the proper sense, however we are comparing the true similarity with jaccard (true_sim) and the approximation with minHash (apprx_sim). The similarity or accuracy is defined as follows :\n",
    "\n",
    "$acc = \\frac{ true_{sim} \\in approx_sim }{ max(true_{sim}, approx_{sim})}$\n",
    "\n",
    "The graph shows that single size between 4 and 7 is quite good options. This kind of method can also be used for parameter tuning. "
   ]
  },
  {
   "cell_type": "code",
   "execution_count": 58,
   "metadata": {},
   "outputs": [
    {
     "name": "stdout",
     "output_type": "stream",
     "text": [
      "indices :  [[0, 1], [10, 11], [28, 29], [32, 33], [38, 39]]\n",
      "indices_true :  [[0, 1], [26, 27], [32, 33]]\n",
      "indices :  [[0, 1], [26, 27], [32, 33], [38, 39]]\n",
      "indices_true :  [[0, 1], [26, 27], [32, 33]]\n",
      "indices :  [[26, 27], [28, 29], [32, 33]]\n",
      "indices_true :  [[0, 1], [26, 27], [32, 33]]\n",
      "indices :  [[0, 1], [26, 27], [32, 33]]\n",
      "indices_true :  [[0, 1], [26, 27], [32, 33]]\n",
      "indices :  [[0, 1], [26, 27], [32, 33]]\n",
      "indices_true :  [[0, 1], [26, 27], [32, 33]]\n",
      "indices :  [[0, 1], [26, 27], [32, 33]]\n",
      "indices_true :  [[0, 1], [26, 27], [32, 33]]\n",
      "indices :  [[0, 1], [26, 27], [28, 29], [32, 33]]\n",
      "indices_true :  [[0, 1], [26, 27], [32, 33]]\n",
      "indices :  [[0, 1], [26, 27], [32, 33]]\n",
      "indices_true :  [[0, 1], [26, 27], [32, 33]]\n",
      "indices :  [[0, 1], [26, 27], [32, 33]]\n",
      "indices_true :  [[0, 1], [26, 27], [32, 33]]\n",
      "indices :  [[0, 1], [32, 33]]\n",
      "indices_true :  [[0, 1], [26, 27], [32, 33]]\n"
     ]
    },
    {
     "data": {
      "image/png": "[encoded data removed]",
      "text/plain": [
       "<matplotlib.figure.Figure at 0xf95e61f748>"
      ]
     },
     "metadata": {
      "needs_background": "light"
     },
     "output_type": "display_data"
    }
   ],
   "source": [
    "test_NumberOfHashesFunc_accuracy() "
   ]
  },
  {
   "cell_type": "markdown",
   "metadata": {},
   "source": [
    "Here we want to test the effect of the number of hash functions to the performance of the minHash similarity approximation. The graph shows that an increasing number of hash functions increase the certainity and the performance of the Minhash. \n"
   ]
  },
  {
   "cell_type": "markdown",
   "metadata": {},
   "source": [
    "## Test with *real* data  "
   ]
  },
  {
   "cell_type": "markdown",
   "metadata": {},
   "source": [
    "We have used the Quora dataset (https://www.kaggle.com/c/quora-question-pairs/data) for questions duplicates and we will use minHash for finding simalar questions on the character level (nothing about semantic similarity, linguistic  similarity). The data is slightly modified for our purpose, we have filtered out everything in order to quip only text questions."
   ]
  },
  {
   "cell_type": "markdown",
   "metadata": {},
   "source": [
    "Read the first 5 questions :\n"
   ]
  },
  {
   "cell_type": "code",
   "execution_count": 59,
   "metadata": {},
   "outputs": [
    {
     "name": "stdout",
     "output_type": "stream",
     "text": [
      "['What is the step by step guide to invest in share market in india?', 'What is the step by step guide to invest in share market?', 'What is the story of Kohinoor (Koh-i-Noor) Diamond?', 'What would happen if the Indian government stole the Kohinoor (Koh-i-Noor) diamond back?', 'How can I increase the speed of my internet connection while using a VPN?']\n"
     ]
    }
   ],
   "source": [
    "number = 5\n",
    "data = read_data()\n",
    "documents = data[0:number]\n",
    "print(documents)"
   ]
  },
  {
   "cell_type": "markdown",
   "metadata": {},
   "source": [
    "We will implement a modified version in order to find similar documents and print them out "
   ]
  },
  {
   "cell_type": "code",
   "execution_count": 61,
   "metadata": {},
   "outputs": [],
   "source": [
    "def similar_documents(documents, k = 5, s = 0.8) :\n",
    "    \n",
    "    signature = MinHashing(documents, k)\n",
    "    indices = []\n",
    "    total = len(documents)\n",
    "    for i in range(total) :\n",
    "        for j in range(i, total) :\n",
    "            sim = jaccard_sim_minhashing(signature, i,j)\n",
    "            if sim > s and (i != j) :\n",
    "                indices.append([i,j])\n",
    "\n",
    "    print(\"similar docs indices : \",indices )\n",
    "    for i, [x,y] in enumerate(indices) :\n",
    "        print(\"Similar docs : \", i)\n",
    "        print(documents[x])\n",
    "        print(documents[y])"
   ]
  },
  {
   "cell_type": "code",
   "execution_count": 62,
   "metadata": {},
   "outputs": [
    {
     "name": "stdout",
     "output_type": "stream",
     "text": [
      "similar docs indices :  [[0, 1]]\n",
      "Similar docs :  0\n",
      "What is the step by step guide to invest in share market in india?\n",
      "What is the step by step guide to invest in share market?\n"
     ]
    }
   ],
   "source": [
    "# Take 20 questions \n",
    "number = 20\n",
    "data = read_data()\n",
    "documents = data[0:number]\n",
    "#Parameters \n",
    "k = 5\n",
    "s = 0.8\n",
    "# Find similar questions :\n",
    "similar_documents(documents,k,s)"
   ]
  },
  {
   "cell_type": "markdown",
   "metadata": {},
   "source": [
    "Try with more questions "
   ]
  },
  {
   "cell_type": "code",
   "execution_count": 63,
   "metadata": {},
   "outputs": [
    {
     "name": "stdout",
     "output_type": "stream",
     "text": [
      "similar docs indices :  [[0, 1], [26, 27], [32, 33], [50, 51], [82, 83], [84, 85]]\n",
      "Similar docs :  0\n",
      "What is the step by step guide to invest in share market in india?\n",
      "What is the step by step guide to invest in share market?\n",
      "Similar docs :  1\n",
      "What was your first sexual experience like?\n",
      "What was your first sexual experience?\n",
      "Similar docs :  2\n",
      "What does manipulation mean?\n",
      "What does manipulation means?\n",
      "Similar docs :  3\n",
      "What are some tips on making it through the job interview process at Medicines?\n",
      "What are some tips on making it through the job interview process at Foundation Medicine?\n",
      "Similar docs :  4\n",
      "When can I expect my Cognizant confirmation mail?\n",
      "When can I expect Cognizant confirmation mail?\n",
      "Similar docs :  5\n",
      "Can I make 50,000 a month by day trading?\n",
      "Can I make 30,000 a month by day trading?\n"
     ]
    }
   ],
   "source": [
    "# Take 20 questions \n",
    "number = 100\n",
    "data = read_data()\n",
    "documents = data[0:number]\n",
    "#Parameters \n",
    "k = 5\n",
    "s = 0.8\n",
    "# Find similar questions :\n",
    "similar_documents(documents,k,s)"
   ]
  },
  {
   "cell_type": "markdown",
   "metadata": {},
   "source": [
    "Try with more questions and lower similarity score :"
   ]
  },
  {
   "cell_type": "code",
   "execution_count": 67,
   "metadata": {},
   "outputs": [
    {
     "name": "stdout",
     "output_type": "stream",
     "text": [
      "similar docs indices :  [[0, 1], [16, 17], [26, 27], [28, 29], [32, 33], [38, 39], [50, 51], [52, 53], [56, 57], [64, 65], [68, 69], [72, 75], [75, 94], [82, 83], [84, 85], [88, 89]]\n",
      "Similar docs :  0\n",
      "What is the step by step guide to invest in share market in india?\n",
      "What is the step by step guide to invest in share market?\n",
      "Similar docs :  1\n",
      "When do you use シ instead of し?\n",
      "When do you use \"&\" instead of \"and\"?\n",
      "Similar docs :  2\n",
      "What was your first sexual experience like?\n",
      "What was your first sexual experience?\n",
      "Similar docs :  3\n",
      "What are the laws to change your status from a student visa to a green card in the US, how do they compare to the immigration laws in Canada?\n",
      "What are the laws to change your status from a student visa to a green card in the US? How do they compare to the immigration laws in Japan?\n",
      "Similar docs :  4\n",
      "What does manipulation mean?\n",
      "What does manipulation means?\n",
      "Similar docs :  5\n",
      "Which is the best digital marketing institution in banglore?\n",
      "Which is the best digital marketing institute in Pune?\n",
      "Similar docs :  6\n",
      "What are some tips on making it through the job interview process at Medicines?\n",
      "What are some tips on making it through the job interview process at Foundation Medicine?\n",
      "Similar docs :  7\n",
      "What is web application?\n",
      "What is the web application framework?\n",
      "Similar docs :  8\n",
      "What is best way to make money online?\n",
      "What is best way to ask for money online?\n",
      "Similar docs :  9\n",
      "What Game of Thrones villain would be the most likely to give you mercy?\n",
      "What Game of Thrones villain would you most like to be at the mercy of?\n",
      "Similar docs :  10\n",
      "What is the best travel website in spain?\n",
      "What is the best travel website?\n",
      "Similar docs :  11\n",
      "I'm a 19-year-old. How can I improve my skills or what should I do to become an entrepreneur in the next few years?\n",
      "My girlfriend said that we should end this because she is confused about her feelings for me. I wished her well and disconnected. Should I call her and ask her if she wants to get back together?\n",
      "Similar docs :  12\n",
      "My girlfriend said that we should end this because she is confused about her feelings for me. I wished her well and disconnected. Should I call her and ask her if she wants to get back together?\n",
      "What are the stages of breaking up between couple? I mean, what happens after the breaking up emotionally whether its a male or female?\n",
      "Similar docs :  13\n",
      "When can I expect my Cognizant confirmation mail?\n",
      "When can I expect Cognizant confirmation mail?\n",
      "Similar docs :  14\n",
      "Can I make 50,000 a month by day trading?\n",
      "Can I make 30,000 a month by day trading?\n",
      "Similar docs :  15\n",
      "What universities does Rexnord recruit new grads from? What majors are they looking for?\n",
      "What universities does B&G Foods recruit new grads from? What majors are they looking for?\n"
     ]
    }
   ],
   "source": [
    "# Take 20 questions \n",
    "number = 100\n",
    "data = read_data()\n",
    "documents = data[0:number]\n",
    "#Parameters \n",
    "k = 5\n",
    "s = 0.5\n",
    "# Find similar questions :\n",
    "similar_documents(documents,k,s)"
   ]
  },
  {
   "cell_type": "markdown",
   "metadata": {},
   "source": [
    "With lower similarity score,we get more data. "
   ]
  },
  {
   "cell_type": "markdown",
   "metadata": {},
   "source": [
    "## Locality Sensitive Hashing"
   ]
  },
  {
   "cell_type": "markdown",
   "metadata": {},
   "source": [
    "We will implement LHS with the help of the signature matrix from minHash. "
   ]
  },
  {
   "cell_type": "code",
   "execution_count": null,
   "metadata": {},
   "outputs": [],
   "source": []
  }
 ],
 "metadata": {
  "kernelspec": {
   "display_name": "Python 3",
   "language": "python",
   "name": "python3"
  },
  "language_info": {
   "codemirror_mode": {
    "name": "ipython",
    "version": 3
   },
   "file_extension": ".py",
   "mimetype": "text/x-python",
   "name": "python",
   "nbconvert_exporter": "python",
   "pygments_lexer": "ipython3",
   "version": "3.6.4"
  }
 },
 "nbformat": 4,
 "nbformat_minor": 2
}
